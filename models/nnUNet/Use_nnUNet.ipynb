{
 "cells": [
  {
   "cell_type": "code",
   "execution_count": 1,
   "id": "ec3ae9dd-6bfb-46f8-9b24-ccd86f888616",
   "metadata": {},
   "outputs": [],
   "source": [
    "import os"
   ]
  },
  {
   "cell_type": "markdown",
   "id": "5b38cb23-792d-4ddb-8930-43218843f24d",
   "metadata": {},
   "source": [
    "---"
   ]
  },
  {
   "cell_type": "markdown",
   "id": "9816f195-0516-411f-832f-d22d6c12e248",
   "metadata": {},
   "source": [
    "## nnUNet 환경 설정"
   ]
  },
  {
   "cell_type": "code",
   "execution_count": 8,
   "id": "647b24cb-8be7-47b4-8a14-cc179290d1be",
   "metadata": {},
   "outputs": [],
   "source": [
    "nnUNet_raw=\"C:/Users/qwe14/0.code/nnUNet/nnUNet_raw\"\n",
    "nnUNet_preprocessed=\"C:/Users/qwe14/0.code/nnUNet/nnUNet_preprocessed\"\n",
    "nnUNet_results=\"C:/Users/qwe14/0.code/nnUNet/nnUNet_results\"\n",
    "KMP_DUPLICATE_LIB_OK=\"True\""
   ]
  },
  {
   "cell_type": "code",
   "execution_count": 9,
   "id": "1b43d79b-9fb8-4685-8b20-ce1a640dbba0",
   "metadata": {},
   "outputs": [],
   "source": [
    "os.environ['nnUNet_raw'] = nnUNet_raw\n",
    "os.environ['nnUNet_preprocessed'] = nnUNet_preprocessed\n",
    "os.environ['nnUNet_results'] = nnUNet_results\n",
    "os.environ['KMP_DUPLICATE_LIB_OK'] = KMP_DUPLICATE_LIB_OK"
   ]
  },
  {
   "cell_type": "markdown",
   "id": "a6b8f6fe-efad-49b8-bb81-de790c11752f",
   "metadata": {},
   "source": [
    "---"
   ]
  },
  {
   "cell_type": "markdown",
   "id": "d972e9a7-6cf1-4288-8bfe-5c9269a35722",
   "metadata": {},
   "source": [
    "## 데이터 전처리"
   ]
  },
  {
   "attachments": {},
   "cell_type": "markdown",
   "id": "c7800f1e-5b79-47bd-b56a-33595aa4d718",
   "metadata": {},
   "source": [
    "preprocess_png.ipynb 참고\n",
    "- [nnUNet_raw]/Data[숫자]_[데이터이름]\n",
    "  - Data[숫자]_[데이터이름]/imagesTr  : Train+val 데이터 이미지(.png)   예)img-00002_0000.png\n",
    "  - Data[숫자]_[데이터이름]/imagesTs  : Test 데이터 이미지(.png)\n",
    "  - Data[숫자]_[데이터이름]/labelsTr  : Train+val 마스크 이미지(.png)   예)img-00002.png\n",
    "  - Data[숫자]_[데이터이름]/labelsTs  : Test 마스크 이미지(.png)\n",
    "  - Data[숫자]_[데이터이름]/dataset.json : 데이터셋에 대한 정보(인풋 채널, 레이블,학습 데이터 수, 파일 확장자, 데이터셋 이름)"
   ]
  },
  {
   "attachments": {},
   "cell_type": "markdown",
   "id": "681c6aaf-49fc-4cf3-b6ee-7c69e577c612",
   "metadata": {},
   "source": [
    "`nnUNetv2_plan_and_preprocess -d [DATASET_ID] --verify_dataset_integrity\n",
    "`"
   ]
  },
  {
   "cell_type": "code",
   "execution_count": null,
   "id": "2081abec-7c50-4ede-8694-59b9752a05a7",
   "metadata": {},
   "outputs": [],
   "source": [
    "preprocess_cmd = \"nnUNetv2_plan_and_preprocess -d 121 --verify_dataset_integrity\"\n",
    "os.system(preprocess_cmd)"
   ]
  },
  {
   "cell_type": "markdown",
   "id": "b398833b-c80c-4bea-9898-6477d01e2004",
   "metadata": {},
   "source": [
    "---"
   ]
  },
  {
   "attachments": {},
   "cell_type": "markdown",
   "id": "1d052c52-0aa5-42ad-9e1f-e7c9842cbe98",
   "metadata": {},
   "source": [
    "## 데이터 학습\n",
    "`nnUNetv2_train [DATASET_NAME_OR_ID] [UNET_CONFIGURATION] [FOLD] --val –npz\n",
    "`"
   ]
  },
  {
   "cell_type": "code",
   "execution_count": null,
   "id": "bc626fbe-bd24-4ed3-897d-6c989cc47fd3",
   "metadata": {},
   "outputs": [],
   "source": [
    "train_cmd = \"nnUNetv2_train 121 2d 5 --val --npz\"\n",
    "os.system(train_cmd)"
   ]
  },
  {
   "cell_type": "markdown",
   "id": "347049e2-cca2-4c63-b736-aec713b52a57",
   "metadata": {},
   "source": [
    "---"
   ]
  },
  {
   "cell_type": "markdown",
   "id": "4bf4a2df-ac3d-435e-bb7c-93ebf568e6fb",
   "metadata": {},
   "source": [
    "## 데이터 추론"
   ]
  },
  {
   "attachments": {},
   "cell_type": "markdown",
   "id": "7b0b48f8-4988-48a3-a627-4152e491450e",
   "metadata": {},
   "source": [
    "`nnUNetv2_predict -i [INPUT_FOLDER] -o [OUTPUT_FOLDER] -d [DATASET_NAME_OR_ID] -c [CONFIGURATION] --save_probabilities\n",
    "`"
   ]
  },
  {
   "cell_type": "code",
   "execution_count": null,
   "id": "ef0ceee2-772a-4c02-9e52-5796bd12455d",
   "metadata": {},
   "outputs": [],
   "source": [
    "predict_cmd = \"nnUNetv2_predict -i / -o / -d 121 -c 2d --save_probabilities\"\n",
    "os.system(predict_cmd)"
   ]
  },
  {
   "cell_type": "code",
   "execution_count": null,
   "id": "37d8fe15-c45f-48cd-a4bc-85778b4ea2a1",
   "metadata": {},
   "outputs": [],
   "source": []
  },
  {
   "cell_type": "code",
   "execution_count": null,
   "id": "f65d3831-b3a6-4552-a7d3-12acec384d1a",
   "metadata": {},
   "outputs": [],
   "source": []
  }
 ],
 "metadata": {
  "kernelspec": {
   "display_name": "Python 3 (ipykernel)",
   "language": "python",
   "name": "python3"
  },
  "language_info": {
   "codemirror_mode": {
    "name": "ipython",
    "version": 3
   },
   "file_extension": ".py",
   "mimetype": "text/x-python",
   "name": "python",
   "nbconvert_exporter": "python",
   "pygments_lexer": "ipython3",
   "version": "3.11.5"
  }
 },
 "nbformat": 4,
 "nbformat_minor": 5
}
