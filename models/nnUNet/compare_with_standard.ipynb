{
 "cells": [
  {
   "cell_type": "markdown",
   "id": "0e4ce913-b9ac-4063-80ae-454927eae5bf",
   "metadata": {},
   "source": [
    "# 기존 모델과 nnUNet 비교"
   ]
  },
  {
   "cell_type": "markdown",
   "id": "2cac8ae5-6a93-4027-882d-135c5134fef7",
   "metadata": {},
   "source": [
    "---"
   ]
  },
  {
   "cell_type": "markdown",
   "id": "abfbddba-0751-42d4-b214-a73c3f5072a1",
   "metadata": {
    "tags": []
   },
   "source": [
    "## train dataset (1078개)의 8:1:1로 나눈 test set"
   ]
  },
  {
   "cell_type": "markdown",
   "id": "3b467459-7134-412a-b11d-9576cb77c8fb",
   "metadata": {},
   "source": [
    "### 전처리"
   ]
  },
  {
   "cell_type": "code",
   "execution_count": 14,
   "id": "6579ce5f-4e9d-4e2f-b47d-86b4d45bd688",
   "metadata": {},
   "outputs": [
    {
     "name": "stdout",
     "output_type": "stream",
     "text": [
      "108\n"
     ]
    }
   ],
   "source": [
    "from glob import glob\n",
    "\n",
    "mask_file_home = r\"C:\\Users\\qwe14\\0.code\\nnUNet\\nnUNet_raw\\Dataset121_MR\\labelsTs\"\n",
    "mask_file_path = glob(f\"{mask_file_home}\\\\*.png\")\n",
    "test_origin_path = []\n",
    "with open(r\"C:\\Users\\qwe14\\0.code\\sarcopenia\\data_train\\train_annot_2\\data_relation.txt\", \"r\", encoding=\"utf-8\") as f:\n",
    "    lines = f.readlines()\n",
    "    for line in lines:\n",
    "        rel_path, jpg_file = line.strip().split(\"\\t\")\n",
    "        png_file = \"C:\\\\Users\\\\qwe14\\\\0.code\\\\nnUNet\\\\nnUNet_raw\\\\Dataset121_MR\\\\labelsTs\\\\img-\"+jpg_file.replace(\"jpg\", \"png\")\n",
    "        if png_file in mask_file_path:\n",
    "            abs_path = r\"C:\\Users\\qwe14\\0.code\\sarcopenia\\data_train_raw\\TrainingData2차_raw\" + f\"\\\\{rel_path}\"\n",
    "            test_origin_path.append([abs_path, jpg_file])\n",
    "print(len(test_origin_path))"
   ]
  },
  {
   "cell_type": "code",
   "execution_count": 15,
   "id": "6ccd8894-fc2f-4706-aa2d-c5e50d725f94",
   "metadata": {},
   "outputs": [
    {
     "name": "stdout",
     "output_type": "stream",
     "text": [
      "['C:\\\\Users\\\\qwe14\\\\0.code\\\\sarcopenia\\\\data_train_raw\\\\TrainingData2차_raw\\\\200307_L3_External validation_MASK\\\\sarc-10001', '00001.jpg']\n"
     ]
    }
   ],
   "source": [
    "print(test_origin_path[0])"
   ]
  },
  {
   "cell_type": "code",
   "execution_count": 18,
   "id": "69232a68-939a-4c80-aefb-fa3902caa4aa",
   "metadata": {},
   "outputs": [],
   "source": [
    "import shutil\n",
    "\n",
    "def copy_folder(src_dir, dest_dir):\n",
    "    shutil.copytree(src_dir, dest_dir)\n",
    "\n",
    "if __name__ == \"__main__\":\n",
    "    for (src_dir, jpg_name) in test_origin_path:\n",
    "        dest_dir_home = r\"C:\\Users\\qwe14\\IAID_program\\test_data\"\n",
    "        file_num = jpg_name.split(\".\")[0]\n",
    "        dest_dir = f\"{dest_dir_home}\\\\{file_num}\"\n",
    "        copy_folder(src_dir, dest_dir)"
   ]
  },
  {
   "cell_type": "markdown",
   "id": "c15e4946-64b9-4c76-8c65-479687f75338",
   "metadata": {},
   "source": [
    "#### 기존 모델에 위 테스트 데이터(108개)를 돌릴경우 결과가 나오지 않음\n",
    "#### 그래서 다른 test set(900개)를 바탕으로 평가 예정"
   ]
  },
  {
   "cell_type": "markdown",
   "id": "ef5a8c9c-e199-4278-9a91-52564a609bf5",
   "metadata": {},
   "source": [
    "---"
   ]
  },
  {
   "cell_type": "markdown",
   "id": "efa2f970-3db9-43b2-9320-9a67022ae482",
   "metadata": {},
   "source": [
    "## HU 값이 적용된 test set(900개)"
   ]
  },
  {
   "cell_type": "markdown",
   "id": "c8d9ea49-8e8c-4bf5-99c2-5fd99d577b79",
   "metadata": {},
   "source": [
    "#### 기존 모델로 예측 결과 894개 성공\n",
    "### 894개 데이터에 대한 metric 비교"
   ]
  },
  {
   "cell_type": "code",
   "execution_count": 1,
   "id": "e0d4885f-3cc8-49a2-9b9f-975c3d7042df",
   "metadata": {
    "tags": []
   },
   "outputs": [],
   "source": [
    "import sys\n",
    "sys.path.append('C:\\\\Users\\\\qwe14\\\\anaconda3\\\\envs\\\\nnunet\\\\lib\\\\site-packages')\n",
    "\n",
    "from PIL import Image\n",
    "from glob import glob\n",
    "import numpy as np\n",
    "import cv2\n",
    "import matplotlib.cm as cm\n",
    "import matplotlib.pyplot as plt\n",
    "import re\n",
    "import pydicom\n",
    "import os"
   ]
  },
  {
   "cell_type": "code",
   "execution_count": 34,
   "id": "639579d3-996a-418c-9bd3-a879de91c1f7",
   "metadata": {
    "tags": []
   },
   "outputs": [],
   "source": [
    "from sklearn.metrics import f1_score, accuracy_score\n",
    "import numpy as np\n",
    "def calculate_binary_metrics(pm_mask, gm_mask):\n",
    "    f1_micro = f1_score(pm_mask.flatten(), gm_mask.flatten(), average='micro')\n",
    "    f1_macro = f1_score(pm_mask.flatten(), gm_mask.flatten(), average='macro')\n",
    "    accuracy = accuracy_score(pm_mask.flatten(), gm_mask.flatten())\n",
    "\n",
    "    return f1_micro, f1_macro, accuracy\n",
    "    \n",
    "def calculate_iou(predicted_mask, ground_truth_mask):\n",
    "    intersection = np.logical_and(predicted_mask, ground_truth_mask)\n",
    "    union = np.logical_or(predicted_mask, ground_truth_mask)\n",
    "    \n",
    "    iou = np.sum(intersection) / np.sum(union)\n",
    "    return iou\n",
    "\n",
    "def calculate_dice_score(y_true, y_pred):\n",
    "    intersection = np.sum(y_true * y_pred)\n",
    "    if intersection == 0:\n",
    "        return 0\n",
    "    else:\n",
    "        return 2 * intersection / (np.sum(y_true) + np.sum(y_pred))"
   ]
  },
  {
   "cell_type": "code",
   "execution_count": 46,
   "id": "0b3c2284-f4a0-48bf-8245-22fa6e4c8c8c",
   "metadata": {
    "tags": []
   },
   "outputs": [],
   "source": [
    "def norm_img(img):\n",
    "    norm_image = np.array(img, dtype=np.float64)\n",
    "    norm_image -= np.min(norm_image)\n",
    "    norm_image /= np.max(norm_image)\n",
    "    normalized_image = norm_image * 255\n",
    "    normalized_image = normalized_image.astype(np.uint8)\n",
    "    return normalized_image\n",
    "\n",
    "\n",
    "def get_preprocess_dcm_img(dcm):\n",
    "    dcm_array = dcm.pixel_array\n",
    "    try:\n",
    "        hu_image = dcm_array * dcm.RescaleSlope + dcm.RescaleIntercept\n",
    "        img_min = dcm.WindowCenter - dcm.WindowWidth // 2\n",
    "        img_max = dcm.WindowCenter + dcm.WindowWidth // 2\n",
    "    except AttributeError:\n",
    "        hu_image = dcm_array\n",
    "        img_min = 40 - 200\n",
    "        img_max = 40 + 200\n",
    "    except TypeError:\n",
    "        img_min = dcm.WindowCenter[0] - dcm.WindowWidth[0] // 2\n",
    "        img_max = dcm.WindowCenter[0] + dcm.WindowWidth[0] // 2\n",
    "    hu_image[hu_image < -1024] = np.array(-1024).astype(hu_image.dtype)\n",
    "    preprocessed_img = np.clip(hu_image, img_min, img_max)\n",
    "    return preprocessed_img\n",
    "    \n",
    "def hu_mask(dcm_path, dcmimg_path, mask_path, pred_mask_path):\n",
    "    output_mask = cv2.imread(pred_mask_path, cv2.IMREAD_GRAYSCALE)\n",
    "    gt_mask = cv2.imread(mask_path, cv2.IMREAD_GRAYSCALE)\n",
    "    try:\n",
    "        output_mask_origin = output_mask.copy()\n",
    "        hu_range = {\n",
    "            \"Sfat\": [1, [-190, -30]], # Sfat\n",
    "            \"muscle\": [2, [-190, 150]], # Muscle\n",
    "            \"Vfat\": [3, [-190, -30]]  # Vfat\n",
    "        }\n",
    "        dcm = pydicom.dcmread(dcm_path)\n",
    "        hu_image = get_preprocess_dcm_img(dcm)\n",
    "    \n",
    "        # Vfat mask postprocess\n",
    "        sfat_range = hu_range[\"Sfat\"][1]\n",
    "        sfat_condition1 = (sfat_range[0] < hu_image)\n",
    "        sfat_condition2 = (hu_image < sfat_range[1])\n",
    "        co = sfat_condition1 & sfat_condition2\n",
    "        sfat_mask = np.zeros_like(output_mask)\n",
    "        sfat_mask[co.astype(bool) & (output_mask == hu_range[\"Sfat\"][0])] = 1\n",
    "        output_mask[(sfat_mask == 0) & (output_mask == hu_range[\"Sfat\"][0])] = 0\n",
    "    \n",
    "        # muscle mask postprocess\n",
    "        muscle_range = hu_range[\"muscle\"][1]\n",
    "        muscle_condition1 = (muscle_range[0] < hu_image)\n",
    "        muscle_condition2 = (hu_image < muscle_range[1])\n",
    "        co = muscle_condition1 & muscle_condition2\n",
    "        muscle_mask = np.zeros_like(output_mask)\n",
    "        muscle_mask[co.astype(bool) & (output_mask == hu_range[\"muscle\"][0])] = 1\n",
    "        output_mask[(muscle_mask == 0) & (output_mask == hu_range[\"muscle\"][0])] = 0\n",
    "    \n",
    "        # Vfat mask postprocess\n",
    "        vfat_range = hu_range[\"Sfat\"][1]\n",
    "        vfat_condition1 = (vfat_range[0] < hu_image)\n",
    "        vfat_condition2 = (hu_image < vfat_range[1])\n",
    "        co = vfat_condition1 & vfat_condition2\n",
    "        vfat_mask = np.zeros_like(output_mask)\n",
    "        vfat_mask[co.astype(bool) & (output_mask == hu_range[\"Vfat\"][0])] = 1\n",
    "        output_mask[(vfat_mask == 0) & (output_mask == hu_range[\"Vfat\"][0])] = 0\n",
    "        \n",
    "        background_img = cv2.imread(dcmimg_path, cv2.IMREAD_GRAYSCALE)\n",
    "        \n",
    "#         plt.subplot(1,4,1)\n",
    "#         plt.axis('off')\n",
    "#         plt.gca().set_title('windowing Img')\n",
    "#         plt.imshow(background_img, cmap = cm.gray)\n",
    "        \n",
    "#         plt.subplot(1,4,2)\n",
    "#         plt.axis('off')\n",
    "#         plt.gca().set_title('GT Mask')\n",
    "#         plt.imshow(gt_mask, cmap = cm.gray)\n",
    "        \n",
    "#         plt.subplot(1,4,3)\n",
    "#         plt.axis('off')\n",
    "#         plt.gca().set_title('pred hu Mask')\n",
    "#         plt.imshow(output_mask, cmap = cm.gray)\n",
    "\n",
    "#         plt.subplot(1,4,4)\n",
    "#         plt.axis('off')\n",
    "#         plt.gca().set_title('pred Mask')\n",
    "#         plt.imshow(output_mask_origin, cmap = cm.gray)\n",
    "        \n",
    "#         plt.show()\n",
    "    except TypeError:\n",
    "        print(f\"output_mask None{mask_path}\")\n",
    "        return [None, None]\n",
    "    except pydicom.errors.InvalidDicomError:\n",
    "        print(f\"pydicom.err InvalidDicomError: {dcm_path}\")\n",
    "        return [None, None]\n",
    "    return [gt_mask, output_mask]"
   ]
  },
  {
   "cell_type": "markdown",
   "id": "952ab175-256f-4307-a9c5-86aef9ba1413",
   "metadata": {},
   "source": [
    "### mask 저장\n",
    "- body_mask, muscle_mask, sfat_mask 를 하나의 마스크로 바꿔 저장\n",
    "- background = 0, body = 1, muscle = 2, sfat = 3"
   ]
  },
  {
   "cell_type": "code",
   "execution_count": 15,
   "id": "c7ff848d-409c-48e1-a97c-12230965b4d0",
   "metadata": {
    "tags": []
   },
   "outputs": [],
   "source": [
    "# import os\n",
    "# # C:\\Users\\qwe14\\0.code\\sarcopenia\\data_train_raw\\output\\result01\\L3Data\\SarcopeniaCase1_20061220_DCM\\Mask_Body\\*.png\n",
    "# link = r\"C:\\Users\\qwe14\\0.code\\sarcopenia\\data_train_raw\\output\\result01\\L3Data\\*\\Mask_*\\*.png\"\n",
    "# mask_path = glob(link)\n",
    "# for idx, path in enumerate(mask_path):\n",
    "#     if idx % 3 == 0:\n",
    "#         body_mask_path = path\n",
    "#     elif idx % 3 == 1:\n",
    "#         muscle_mask_path = path\n",
    "#     else:\n",
    "#         sfat_mask_path = path\n",
    "#         sfat_mask = cv2.imread(sfat_mask_path, cv2.IMREAD_GRAYSCALE)\n",
    "#         muscle_mask = cv2.imread(muscle_mask_path, cv2.IMREAD_GRAYSCALE)\n",
    "#         body_mask = cv2.imread(body_mask_path, cv2.IMREAD_GRAYSCALE)\n",
    "        \n",
    "#         vfat_mask = muscle_mask\n",
    "#         muscle_mask = sfat_mask - vfat_mask\n",
    "#         sfat_mask = body_mask - sfat_mask\n",
    "#         assert len(np.unique(vfat_mask)) == 2\n",
    "#         assert len(np.unique(muscle_mask)) == 2\n",
    "#         assert len(np.unique(sfat_mask)) == 2\n",
    "        \n",
    "#         sub_path = path.split(\"\\\\\")[:-2]\n",
    "#         fn = path.split(\"\\\\\")[-1][2:]\n",
    "#         rm_path = \"\\\\\".join(sub_path)+\"\\\\Mask_total.png\"\n",
    "#         save_path = \"\\\\\".join(sub_path)+\"\\\\\"+fn\n",
    "#         print(save_path)\n",
    "#         try:\n",
    "#             os.remove(rm_path)\n",
    "#         except:\n",
    "#             pass\n",
    "#         save_mask = np.zeros_like(vfat_mask)\n",
    "#         save_mask[sfat_mask != 0] = 1\n",
    "#         save_mask[muscle_mask != 0] = 2\n",
    "#         save_mask[vfat_mask != 0] = 3\n",
    "#         cv2.imwrite(save_path, save_mask)\n"
   ]
  },
  {
   "cell_type": "code",
   "execution_count": 53,
   "id": "b591108c-2571-473b-9e5e-62a62db78d43",
   "metadata": {
    "tags": []
   },
   "outputs": [
    {
     "name": "stderr",
     "output_type": "stream",
     "text": [
      "C:\\Users\\qwe14\\anaconda3\\envs\\nnunet\\lib\\site-packages\\pydicom\\charset.py:754: UserWarning: Unknown encoding 'ISO_IR 149' - using default encoding instead\n",
      "  _warn_about_invalid_encoding(encoding)\n",
      "C:\\Users\\qwe14\\anaconda3\\envs\\nnunet\\lib\\site-packages\\pydicom\\charset.py:754: UserWarning: Unknown encoding 'ISO_IR 149' - using default encoding instead\n",
      "  _warn_about_invalid_encoding(encoding)\n"
     ]
    },
    {
     "name": "stdout",
     "output_type": "stream",
     "text": [
      "C:\\Users\\qwe14\\0.code\\sarcopenia\\data_train_raw\\#AsanNas\\SarcopeniaCase303\\20150323_ROI\\*.png\n",
      "C:\\Users\\qwe14\\0.code\\sarcopenia\\data_train_raw\\#AsanNas\\SarcopeniaCase381\\20131111_ROI\\*.png\n"
     ]
    }
   ],
   "source": [
    "# C:\\Users\\qwe14\\0.code\\sarcopenia\\data_train_raw\\#AsanNas\\SarcopeniaCase1\\20061220_DCM\\00001.dcm\n",
    "gt_dcm_home = r'C:\\Users\\qwe14\\0.code\\sarcopenia\\data_train_raw\\#AsanNas'\n",
    "\n",
    "iou_list = []\n",
    "acc_list = []\n",
    "f1_macro_list = []\n",
    "f1_micro_list = []\n",
    "dice_score_list = []\n",
    "\n",
    "# C:\\Users\\qwe14\\0.code\\sarcopenia\\data_train_raw\\output\\result01\\L3Data\\SarcopeniaCase159_20150126_DCM\\SarcopeniaCase159_20150126_DCM_00053.png\n",
    "test_set = glob(r\"C:\\Users\\qwe14\\0.code\\sarcopenia\\data_train_raw\\output\\result01\\L3Data\\*\\*.png\")\n",
    "for idx, pred_mask_path in enumerate(test_set):\n",
    "    fn = pred_mask_path.split(\"\\\\\")[-1].split(\"_\")\n",
    "    \n",
    "    if len(fn) == 4:\n",
    "        dcm_path = f\"{gt_dcm_home}\\\\{fn[0]}\\\\{fn[1]}_{fn[2]}\\\\{fn[3]}\"\n",
    "        gt_mask_path = f\"{gt_dcm_home}\\\\{fn[0]}\\\\{fn[1]}_ROI\\\\*.png\"\n",
    "    elif len(fn) == 5:\n",
    "        dcm_path = f\"{gt_dcm_home}\\\\{fn[0]}\\\\{fn[1]}_{fn[2]}_{fn[3]}\\\\{fn[4]}\"\n",
    "        gt_mask_path = f\"{gt_dcm_home}\\\\{fn[0]}\\\\{fn[1]}_{fn[2]}_ROI\\\\*.png\"\n",
    "    dcm_path = dcm_path.replace(\"png\", \"dcm\")\n",
    "    \n",
    "    \n",
    "    img_path = \"\\\\\".join(pred_mask_path.split(\"\\\\\")[:-1]) + \"\\\\Contrast_Img\\\\c_\" + pred_mask_path.split(\"\\\\\")[-1]\n",
    "    try:\n",
    "        gt_mask_path = glob(gt_mask_path)[0]\n",
    "    except:\n",
    "        print(gt_mask_path)\n",
    "    masks = hu_mask(dcm_path, img_path, gt_mask_path, pred_mask_path)\n",
    "    gm_mask, pm_mask = masks\n",
    "    if gm_mask is not None:\n",
    "        iou_list.append(calculate_iou(pm_mask, gm_mask))\n",
    "        f1_micro, f1_macro, acc = calculate_binary_metrics(pm_mask, gm_mask)\n",
    "        acc_list.append(acc)\n",
    "        f1_micro_list.append(f1_micro)\n",
    "        f1_macro_list.append(f1_macro)\n",
    "        dice_score_list.append(calculate_dice_score(pm_mask, gm_mask))"
   ]
  },
  {
   "cell_type": "code",
   "execution_count": 54,
   "id": "585acd07-860a-4136-883c-43574706bfdd",
   "metadata": {
    "tags": []
   },
   "outputs": [
    {
     "name": "stdout",
     "output_type": "stream",
     "text": [
      "IoU: 0.6924762607686946\n",
      "f1_macro score: 0.7437817056129183\n",
      "f1_micro score: 0.8818955784955902\n",
      "accuacy: 0.8818955784955902\n",
      "dice_score: 1.6661839217170422\n"
     ]
    }
   ],
   "source": [
    "print(f\"IoU: {np.mean(iou_list)}\")\n",
    "print(f\"f1_macro score: {np.mean(f1_macro_list)}\")\n",
    "print(f\"f1_micro score: {np.mean(f1_micro_list)}\")\n",
    "print(f\"accuacy: {np.mean(acc_list)}\")\n",
    "print(f\"dice_score: {np.mean(dice_score_list)}\")"
   ]
  },
  {
   "cell_type": "code",
   "execution_count": 55,
   "id": "2e9956d2-9292-4ccf-b818-059d8462c9b6",
   "metadata": {
    "tags": []
   },
   "outputs": [
    {
     "name": "stdout",
     "output_type": "stream",
     "text": [
      "892 892\n"
     ]
    }
   ],
   "source": [
    "print(len(iou_list), len(f1_macro_list))"
   ]
  },
  {
   "cell_type": "markdown",
   "id": "f5dde6cd-d9a5-4fcc-8fab-89e36c4250b4",
   "metadata": {},
   "source": [
    "### L3 제대로 찾은 것만 판단"
   ]
  },
  {
   "cell_type": "code",
   "execution_count": 58,
   "id": "28c3526d-deb6-4ccb-9841-b31846b140f2",
   "metadata": {
    "tags": []
   },
   "outputs": [
    {
     "name": "stdout",
     "output_type": "stream",
     "text": [
      "C:\\Users\\qwe14\\0.code\\sarcopenia\\data_train_raw\\#AsanNas\\SarcopeniaCase303\\20150323_ROI\\*.png\n",
      "Slice error C:\\Users\\qwe14\\0.code\\sarcopenia\\data_train_raw\\#AsanNas\\SarcopeniaCase303\\20150323_ROI\\*.png\n",
      "C:\\Users\\qwe14\\0.code\\sarcopenia\\data_train_raw\\#AsanNas\\SarcopeniaCase381\\20131111_ROI\\*.png\n",
      "Slice error C:\\Users\\qwe14\\0.code\\sarcopenia\\data_train_raw\\#AsanNas\\SarcopeniaCase381\\20131111_ROI\\*.png\n"
     ]
    }
   ],
   "source": [
    "# C:\\Users\\qwe14\\0.code\\sarcopenia\\data_train_raw\\#AsanNas\\SarcopeniaCase1\\20061220_DCM\\00001.dcm\n",
    "gt_dcm_home = r'C:\\Users\\qwe14\\0.code\\sarcopenia\\data_train_raw\\#AsanNas'\n",
    "\n",
    "iou_list = []\n",
    "acc_list = []\n",
    "f1_macro_list = []\n",
    "f1_micro_list = []\n",
    "dice_score_list = []\n",
    "\n",
    "# C:\\Users\\qwe14\\0.code\\sarcopenia\\data_train_raw\\output\\result01\\L3Data\\SarcopeniaCase159_20150126_DCM\\SarcopeniaCase159_20150126_DCM_00053.png\n",
    "test_set = glob(r\"C:\\Users\\qwe14\\0.code\\sarcopenia\\data_train_raw\\output\\result01\\L3Data\\*\\*.png\")\n",
    "incorrect_L3_cnt = 0\n",
    "little_incorrect_L3_cnt = 0\n",
    "for idx, pred_mask_path in enumerate(test_set):\n",
    "    fn = pred_mask_path.split(\"\\\\\")[-1].split(\"_\")\n",
    "    \n",
    "    if len(fn) == 4:\n",
    "        dcm_path = f\"{gt_dcm_home}\\\\{fn[0]}\\\\{fn[1]}_{fn[2]}\\\\{fn[3]}\"\n",
    "        gt_mask_path = f\"{gt_dcm_home}\\\\{fn[0]}\\\\{fn[1]}_ROI\\\\*.png\"\n",
    "    elif len(fn) == 5:\n",
    "        dcm_path = f\"{gt_dcm_home}\\\\{fn[0]}\\\\{fn[1]}_{fn[2]}_{fn[3]}\\\\{fn[4]}\"\n",
    "        gt_mask_path = f\"{gt_dcm_home}\\\\{fn[0]}\\\\{fn[1]}_{fn[2]}_ROI\\\\*.png\"\n",
    "    dcm_path = dcm_path.replace(\"png\", \"dcm\")\n",
    "    \n",
    "    \n",
    "    img_path = \"\\\\\".join(pred_mask_path.split(\"\\\\\")[:-1]) + \"\\\\Contrast_Img\\\\c_\" + pred_mask_path.split(\"\\\\\")[-1]\n",
    "    try:\n",
    "        gt_mask_path = glob(gt_mask_path)[0]\n",
    "    except:\n",
    "        print(gt_mask_path)\n",
    "    pred_dcm_slice = int(pred_mask_path.split(\"_\")[-1].split(\".\")[0])\n",
    "    try:\n",
    "        gt_dcm_slice = int(gt_mask_path.split(\"_\")[-1].split(\".\")[0])\n",
    "    except:\n",
    "        print(\"Slice error\", gt_mask_path)\n",
    "        pass\n",
    "    if pred_dcm_slice != gt_dcm_slice:\n",
    "        incorrect_L3_cnt += 1\n",
    "        if abs(pred_dcm_slice - gt_dcm_slice) == 1:\n",
    "            little_incorrect_L3_cnt += 1\n",
    "    else:\n",
    "        masks = hu_mask(dcm_path, img_path, gt_mask_path, pred_mask_path)\n",
    "        gm_mask, pm_mask = masks\n",
    "        if gm_mask is not None:\n",
    "            iou_list.append(calculate_iou(pm_mask, gm_mask))\n",
    "            f1_micro, f1_macro, acc = calculate_binary_metrics(pm_mask, gm_mask)\n",
    "            acc_list.append(acc)\n",
    "            f1_micro_list.append(f1_micro)\n",
    "            f1_macro_list.append(f1_macro)\n",
    "            dice_score_list.append(calculate_dice_score(pm_mask, gm_mask))\n",
    "\n",
    "        "
   ]
  },
  {
   "cell_type": "code",
   "execution_count": 60,
   "id": "d606cccc-788f-4929-8a41-d3375410ebee",
   "metadata": {
    "tags": []
   },
   "outputs": [
    {
     "name": "stdout",
     "output_type": "stream",
     "text": [
      "IoU: 0.8112280244619839\n",
      "f1_macro score: 0.8794973396410838\n",
      "f1_micro score: 0.9425790773942166\n",
      "accuacy: 0.9425790773942166\n",
      "dice_score: 1.9572716711961669\n"
     ]
    }
   ],
   "source": [
    "print(f\"IoU: {np.mean(iou_list)}\")\n",
    "print(f\"f1_macro score: {np.mean(f1_macro_list)}\")\n",
    "print(f\"f1_micro score: {np.mean(f1_micro_list)}\")\n",
    "print(f\"accuacy: {np.mean(acc_list)}\")\n",
    "print(f\"dice_score: {np.mean(dice_score_list)}\")"
   ]
  },
  {
   "cell_type": "code",
   "execution_count": 61,
   "id": "0d3b341a-b0b3-4275-ae1b-d3da4bc65cfc",
   "metadata": {
    "tags": []
   },
   "outputs": [
    {
     "name": "stdout",
     "output_type": "stream",
     "text": [
      "잘못 된 비율: 745 / 894 * 100 = 83.33333333333334%\n",
      "약간 잘못 된 비율: 170 / 894 * 100 = 19.015659955257274%\n"
     ]
    }
   ],
   "source": [
    "print(f\"잘못 된 비율: {incorrect_L3_cnt} / {len(test_set)} * 100 = {incorrect_L3_cnt / len(test_set) * 100}%\")\n",
    "print(f\"약간 잘못 된 비율: {little_incorrect_L3_cnt} / {len(test_set)} * 100 = {little_incorrect_L3_cnt / len(test_set) * 100}%\")"
   ]
  },
  {
   "cell_type": "code",
   "execution_count": 45,
   "id": "e80f8e6c-35b7-4364-92b8-d8bc2d6e77dd",
   "metadata": {
    "tags": []
   },
   "outputs": [
    {
     "name": "stdout",
     "output_type": "stream",
     "text": [
      "148\n"
     ]
    }
   ],
   "source": [
    "print(len(f1_macro_list))"
   ]
  },
  {
   "cell_type": "code",
   "execution_count": null,
   "id": "5070c6b1-4482-4c55-82b1-5c82e6fef296",
   "metadata": {},
   "outputs": [],
   "source": []
  },
  {
   "cell_type": "code",
   "execution_count": 8,
   "id": "a3abf50f-7473-4929-be13-e41f35cd3ffd",
   "metadata": {
    "tags": []
   },
   "outputs": [
    {
     "data": {
      "image/png": "[encoded data removed]",
      "text/plain": [
       "<Figure size 640x480 with 1 Axes>"
      ]
     },
     "metadata": {},
     "output_type": "display_data"
    }
   ],
   "source": [
    "mask_sample = r'C:\\Users\\qwe14\\0.code\\sarcopenia\\data_train_raw\\#AsanNas\\SarcopeniaCase1\\20061220_ROI\\Mask_40.png'\n",
    "gt_mask = cv2.imread(mask_sample, cv2.IMREAD_GRAYSCALE)\n",
    "plt.imshow(gt_mask, cmap = cm.gray)\n",
    "plt.axis(\"off\")\n",
    "plt.show()"
   ]
  },
  {
   "cell_type": "code",
   "execution_count": 13,
   "id": "7ca20bdc-29f4-415f-a3e5-e55ed66dd944",
   "metadata": {
    "tags": []
   },
   "outputs": [
    {
     "data": {
      "image/png": "[encoded data removed]",
      "text/plain": [
       "<Figure size 640x480 with 1 Axes>"
      ]
     },
     "metadata": {},
     "output_type": "display_data"
    }
   ],
   "source": [
    "mask_sample = r\"C:\\Users\\qwe14\\0.code\\sarcopenia\\data_train_raw\\output\\result01\\L3Data\\SarcopeniaCase100_20071025_DCM\\SarcopeniaCase100_20071025_DCM_00036.png\"\n",
    "gt_mask = cv2.imread(mask_sample, cv2.IMREAD_GRAYSCALE)\n",
    "plt.imshow(gt_mask, cmap = cm.gray)\n",
    "plt.axis(\"off\")\n",
    "plt.show()"
   ]
  },
  {
   "cell_type": "code",
   "execution_count": null,
   "id": "b106e8a5-2996-4fa8-b0d2-fdcafc462a33",
   "metadata": {},
   "outputs": [],
   "source": []
  }
 ],
 "metadata": {
  "kernelspec": {
   "display_name": "Python 3 (ipykernel)",
   "language": "python",
   "name": "python3"
  },
  "language_info": {
   "codemirror_mode": {
    "name": "ipython",
    "version": 3
   },
   "file_extension": ".py",
   "mimetype": "text/x-python",
   "name": "python",
   "nbconvert_exporter": "python",
   "pygments_lexer": "ipython3",
   "version": "3.11.5"
  }
 },
 "nbformat": 4,
 "nbformat_minor": 5
}
