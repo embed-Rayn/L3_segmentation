{
 "cells": [
  {
   "cell_type": "markdown",
   "id": "0e4ce913-b9ac-4063-80ae-454927eae5bf",
   "metadata": {},
   "source": [
    "# 기존 모델과 nnUNet 비교"
   ]
  },
  {
   "cell_type": "markdown",
   "id": "2cac8ae5-6a93-4027-882d-135c5134fef7",
   "metadata": {},
   "source": [
    "---"
   ]
  },
  {
   "cell_type": "markdown",
   "id": "abfbddba-0751-42d4-b214-a73c3f5072a1",
   "metadata": {
    "tags": []
   },
   "source": [
    "## train dataset (1078개)의 8:1:1로 나눈 test set"
   ]
  },
  {
   "cell_type": "markdown",
   "id": "3b467459-7134-412a-b11d-9576cb77c8fb",
   "metadata": {},
   "source": [
    "### 전처리"
   ]
  },
  {
   "cell_type": "code",
   "execution_count": 14,
   "id": "6579ce5f-4e9d-4e2f-b47d-86b4d45bd688",
   "metadata": {},
   "outputs": [
    {
     "name": "stdout",
     "output_type": "stream",
     "text": [
      "108\n"
     ]
    }
   ],
   "source": [
    "from glob import glob\n",
    "\n",
    "mask_file_home = r\"C:\\Users\\qwe14\\0.code\\nnUNet\\nnUNet_raw\\Dataset121_MR\\labelsTs\"\n",
    "mask_file_path = glob(f\"{mask_file_home}\\\\*.png\")\n",
    "test_origin_path = []\n",
    "with open(r\"C:\\Users\\qwe14\\0.code\\sarcopenia\\data_train\\train_annot_2\\data_relation.txt\", \"r\", encoding=\"utf-8\") as f:\n",
    "    lines = f.readlines()\n",
    "    for line in lines:\n",
    "        rel_path, jpg_file = line.strip().split(\"\\t\")\n",
    "        png_file = \"C:\\\\Users\\\\qwe14\\\\0.code\\\\nnUNet\\\\nnUNet_raw\\\\Dataset121_MR\\\\labelsTs\\\\img-\"+jpg_file.replace(\"jpg\", \"png\")\n",
    "        if png_file in mask_file_path:\n",
    "            abs_path = r\"C:\\Users\\qwe14\\0.code\\sarcopenia\\data_train_raw\\TrainingData2차_raw\" + f\"\\\\{rel_path}\"\n",
    "            test_origin_path.append([abs_path, jpg_file])\n",
    "print(len(test_origin_path))"
   ]
  },
  {
   "cell_type": "code",
   "execution_count": 15,
   "id": "6ccd8894-fc2f-4706-aa2d-c5e50d725f94",
   "metadata": {},
   "outputs": [
    {
     "name": "stdout",
     "output_type": "stream",
     "text": [
      "['C:\\\\Users\\\\qwe14\\\\0.code\\\\sarcopenia\\\\data_train_raw\\\\TrainingData2차_raw\\\\200307_L3_External validation_MASK\\\\sarc-10001', '00001.jpg']\n"
     ]
    }
   ],
   "source": [
    "print(test_origin_path[0])"
   ]
  },
  {
   "cell_type": "code",
   "execution_count": 18,
   "id": "69232a68-939a-4c80-aefb-fa3902caa4aa",
   "metadata": {},
   "outputs": [],
   "source": [
    "import shutil\n",
    "\n",
    "def copy_folder(src_dir, dest_dir):\n",
    "    shutil.copytree(src_dir, dest_dir)\n",
    "\n",
    "if __name__ == \"__main__\":\n",
    "    for (src_dir, jpg_name) in test_origin_path:\n",
    "        dest_dir_home = r\"C:\\Users\\qwe14\\IAID_program\\test_data\"\n",
    "        file_num = jpg_name.split(\".\")[0]\n",
    "        dest_dir = f\"{dest_dir_home}\\\\{file_num}\"\n",
    "        copy_folder(src_dir, dest_dir)"
   ]
  },
  {
   "cell_type": "markdown",
   "id": "c15e4946-64b9-4c76-8c65-479687f75338",
   "metadata": {},
   "source": [
    "#### 기존 모델에 위 테스트 데이터(108개)를 돌릴경우 결과가 나오지 않음\n",
    "#### 그래서 다른 test set(900개)를 바탕으로 평가 예정"
   ]
  },
  {
   "cell_type": "markdown",
   "id": "ef5a8c9c-e199-4278-9a91-52564a609bf5",
   "metadata": {},
   "source": [
    "---"
   ]
  },
  {
   "cell_type": "markdown",
   "id": "efa2f970-3db9-43b2-9320-9a67022ae482",
   "metadata": {},
   "source": [
    "## HU 값이 적용된 test set(900개)"
   ]
  },
  {
   "cell_type": "markdown",
   "id": "c8d9ea49-8e8c-4bf5-99c2-5fd99d577b79",
   "metadata": {},
   "source": [
    "#### 기존 모델로 예측 결과 894개 성공\n",
    "### 894개 데이터에 대한 metric 비교"
   ]
  },
  {
   "cell_type": "code",
   "execution_count": 1,
   "id": "e0d4885f-3cc8-49a2-9b9f-975c3d7042df",
   "metadata": {
    "tags": []
   },
   "outputs": [],
   "source": [
    "import sys\n",
    "sys.path.append('C:\\\\Users\\\\qwe14\\\\anaconda3\\\\envs\\\\nnunet\\\\lib\\\\site-packages')\n",
    "\n",
    "from PIL import Image\n",
    "from glob import glob\n",
    "import numpy as np\n",
    "import cv2\n",
    "import matplotlib.cm as cm\n",
    "import matplotlib.pyplot as plt\n",
    "import re\n",
    "import pydicom\n",
    "import os"
   ]
  },
  {
   "cell_type": "code",
   "execution_count": 2,
   "id": "639579d3-996a-418c-9bd3-a879de91c1f7",
   "metadata": {
    "tags": []
   },
   "outputs": [],
   "source": [
    "from sklearn.metrics import f1_score, accuracy_score\n",
    "# 모두 sfat, muscle, vfat 순\n",
    "def calculate_binary_metrics(pm_mask, gm_mask):\n",
    "    pm_bin_mask_list = [np.zeros_like(pm_mask) for i in range(3)]\n",
    "    gm_bin_mask_list = [np.zeros_like(gm_mask) for i in range(3)]\n",
    "    for i in range(3):\n",
    "        pm_bin_mask_list[i][pm_mask==i+1] = 1\n",
    "        gm_bin_mask_list[i][gm_mask==i+1] = 1\n",
    "    f1_list = [f1_score(pm_bin_mask_list[i].flatten(), gm_bin_mask_list[i].flatten(), average='macro') for i in range(3)]\n",
    "    acc_list = [accuracy_score(pm_bin_mask_list[i].flatten(), gm_bin_mask_list[i].flatten()) for i in range(3)]\n",
    "\n",
    "    return f1_list, acc_list\n",
    "    \n",
    "def calculate_iou(pm_mask, gm_mask):\n",
    "    pm_bin_mask_list = [np.zeros_like(pm_mask) for i in range(3)]\n",
    "    gm_bin_mask_list = [np.zeros_like(gm_mask) for i in range(3)]\n",
    "    for i in range(3):\n",
    "        pm_bin_mask_list[i][pm_mask==i+1] = 1\n",
    "        gm_bin_mask_list[i][gm_mask==i+1] = 1\n",
    "    \n",
    "    intersection_list = [np.logical_and(pm_bin_mask_list[i], gm_bin_mask_list[i]) for i in range(3)]\n",
    "    union_list_list = [np.logical_or(pm_bin_mask_list[i], gm_bin_mask_list[i]) for i in range(3)]\n",
    "    \n",
    "    iou_list = [np.sum(intersection_list[i]) / np.sum(union_list_list[i]) for i in range(3)]\n",
    "    return iou_list\n",
    "\n",
    "def calculate_dice_score(pm_mask, gm_mask):\n",
    "    pm_bin_mask_list = [np.zeros_like(pm_mask) for i in range(3)]\n",
    "    gm_bin_mask_list = [np.zeros_like(gm_mask) for i in range(3)]\n",
    "    for i in range(3):\n",
    "        pm_bin_mask_list[i][pm_mask==i+1] = 1\n",
    "        gm_bin_mask_list[i][gm_mask==i+1] = 1\n",
    "    \n",
    "    intersection_list = [np.logical_and(pm_bin_mask_list[i], gm_bin_mask_list[i]) for i in range(3)]\n",
    "    smooth = 0.000001\n",
    "    dice_list = [(2 * np.sum(intersection_list[i]) + smooth)/(np.sum(pm_bin_mask_list[i]) + np.sum(gm_bin_mask_list[i]) + smooth) for i in range(3)]\n",
    "    return dice_list"
   ]
  },
  {
   "cell_type": "code",
   "execution_count": 3,
   "id": "0b3c2284-f4a0-48bf-8245-22fa6e4c8c8c",
   "metadata": {
    "tags": []
   },
   "outputs": [],
   "source": [
    "def norm_img(img):\n",
    "    norm_image = np.array(img, dtype=np.float64)\n",
    "    norm_image -= np.min(norm_image)\n",
    "    norm_image /= np.max(norm_image)\n",
    "    normalized_image = norm_image * 255\n",
    "    normalized_image = normalized_image.astype(np.uint8)\n",
    "    return normalized_image\n",
    "\n",
    "\n",
    "def get_preprocess_dcm_img(dcm):\n",
    "    dcm_array = dcm.pixel_array\n",
    "    try:\n",
    "        hu_image = dcm_array * dcm.RescaleSlope + dcm.RescaleIntercept\n",
    "        img_min = dcm.WindowCenter - dcm.WindowWidth // 2\n",
    "        img_max = dcm.WindowCenter + dcm.WindowWidth // 2\n",
    "    except AttributeError:\n",
    "        hu_image = dcm_array\n",
    "        img_min = 40 - 200\n",
    "        img_max = 40 + 200\n",
    "    except TypeError:\n",
    "        img_min = dcm.WindowCenter[0] - dcm.WindowWidth[0] // 2\n",
    "        img_max = dcm.WindowCenter[0] + dcm.WindowWidth[0] // 2\n",
    "    hu_image[hu_image < -1024] = np.array(-1024).astype(hu_image.dtype)\n",
    "    preprocessed_img = np.clip(hu_image, img_min, img_max)\n",
    "    return preprocessed_img\n",
    "    \n",
    "def hu_mask(dcm_path, dcmimg_path, mask_path, pred_mask_path):\n",
    "    output_mask = cv2.imread(pred_mask_path, cv2.IMREAD_GRAYSCALE)\n",
    "    gt_mask = cv2.imread(mask_path, cv2.IMREAD_GRAYSCALE)\n",
    "    try:\n",
    "        output_mask_origin = output_mask.copy()\n",
    "        hu_range = {\n",
    "            \"Sfat\": [1, [-190, -30]], # Sfat\n",
    "            \"muscle\": [2, [-29, 150]], # Muscle\n",
    "            \"Vfat\": [3, [-190, -30]]  # Vfat\n",
    "        }\n",
    "        dcm = pydicom.dcmread(dcm_path)\n",
    "        hu_image = get_preprocess_dcm_img(dcm)\n",
    "    \n",
    "        # Vfat mask postprocess\n",
    "        sfat_range = hu_range[\"Sfat\"][1]\n",
    "        sfat_condition1 = (sfat_range[0] < hu_image)\n",
    "        sfat_condition2 = (hu_image < sfat_range[1])\n",
    "        co = sfat_condition1 & sfat_condition2\n",
    "        sfat_mask = np.zeros_like(output_mask)\n",
    "        sfat_mask[co.astype(bool) & (output_mask == hu_range[\"Sfat\"][0])] = 1\n",
    "        output_mask[(sfat_mask == 0) & (output_mask == hu_range[\"Sfat\"][0])] = 0\n",
    "    \n",
    "        # muscle mask postprocess\n",
    "        muscle_range = hu_range[\"muscle\"][1]\n",
    "        muscle_condition1 = (muscle_range[0] < hu_image)\n",
    "        muscle_condition2 = (hu_image < muscle_range[1])\n",
    "        co = muscle_condition1 & muscle_condition2\n",
    "        muscle_mask = np.zeros_like(output_mask)\n",
    "        muscle_mask[co.astype(bool) & (output_mask == hu_range[\"muscle\"][0])] = 1\n",
    "        output_mask[(muscle_mask == 0) & (output_mask == hu_range[\"muscle\"][0])] = 0\n",
    "    \n",
    "        # Vfat mask postprocess\n",
    "        vfat_range = hu_range[\"Sfat\"][1]\n",
    "        vfat_condition1 = (vfat_range[0] < hu_image)\n",
    "        vfat_condition2 = (hu_image < vfat_range[1])\n",
    "        co = vfat_condition1 & vfat_condition2\n",
    "        vfat_mask = np.zeros_like(output_mask)\n",
    "        vfat_mask[co.astype(bool) & (output_mask == hu_range[\"Vfat\"][0])] = 1\n",
    "        output_mask[(vfat_mask == 0) & (output_mask == hu_range[\"Vfat\"][0])] = 0\n",
    "        \n",
    "        background_img = cv2.imread(dcmimg_path, cv2.IMREAD_GRAYSCALE)\n",
    "        \n",
    "#         plt.subplot(1,4,1)\n",
    "#         plt.axis('off')\n",
    "#         plt.gca().set_title('windowing Img')\n",
    "#         plt.imshow(background_img, cmap = cm.gray)\n",
    "        \n",
    "#         plt.subplot(1,4,2)\n",
    "#         plt.axis('off')\n",
    "#         plt.gca().set_title('GT Mask')\n",
    "#         plt.imshow(gt_mask, cmap = cm.gray)\n",
    "        \n",
    "#         plt.subplot(1,4,3)\n",
    "#         plt.axis('off')\n",
    "#         plt.gca().set_title('pred hu Mask')\n",
    "#         plt.imshow(output_mask, cmap = cm.gray)\n",
    "\n",
    "#         plt.subplot(1,4,4)\n",
    "#         plt.axis('off')\n",
    "#         plt.gca().set_title('pred Mask')\n",
    "#         plt.imshow(output_mask_origin, cmap = cm.gray)\n",
    "        \n",
    "#         plt.show()\n",
    "    except TypeError:\n",
    "        print(f\"output_mask None{mask_path}\")\n",
    "        return [None, None]\n",
    "    except pydicom.errors.InvalidDicomError:\n",
    "        print(f\"pydicom.err InvalidDicomError: {dcm_path}\")\n",
    "        return [None, None]\n",
    "    return [gt_mask, output_mask]"
   ]
  },
  {
   "cell_type": "markdown",
   "id": "952ab175-256f-4307-a9c5-86aef9ba1413",
   "metadata": {},
   "source": [
    "### mask 저장\n",
    "- body_mask, muscle_mask, sfat_mask 만 제공하기에 하나로 합쳐 저장\n",
    "- background = 0, body = 1, muscle = 2, sfat = 3"
   ]
  },
  {
   "cell_type": "code",
   "execution_count": 4,
   "id": "c7ff848d-409c-48e1-a97c-12230965b4d0",
   "metadata": {
    "tags": []
   },
   "outputs": [],
   "source": [
    "# import os\n",
    "# # C:\\Users\\qwe14\\0.code\\sarcopenia\\data_train_raw\\output\\result01\\L3Data\\SarcopeniaCase1_20061220_DCM\\Mask_Body\\*.png\n",
    "# link = r\"C:\\Users\\qwe14\\0.code\\sarcopenia\\data_train_raw\\output\\result01\\L3Data\\*\\Mask_*\\*.png\"\n",
    "# mask_path = glob(link)\n",
    "# for idx, path in enumerate(mask_path):\n",
    "#     if idx % 3 == 0:\n",
    "#         body_mask_path = path\n",
    "#     elif idx % 3 == 1:\n",
    "#         muscle_mask_path = path\n",
    "#     else:\n",
    "#         sfat_mask_path = path\n",
    "#         sfat_mask = cv2.imread(sfat_mask_path, cv2.IMREAD_GRAYSCALE)\n",
    "#         muscle_mask = cv2.imread(muscle_mask_path, cv2.IMREAD_GRAYSCALE)\n",
    "#         body_mask = cv2.imread(body_mask_path, cv2.IMREAD_GRAYSCALE)\n",
    "        \n",
    "#         vfat_mask = muscle_mask\n",
    "#         muscle_mask = sfat_mask - vfat_mask\n",
    "#         sfat_mask = body_mask - sfat_mask\n",
    "#         assert len(np.unique(vfat_mask)) == 2\n",
    "#         assert len(np.unique(muscle_mask)) == 2\n",
    "#         assert len(np.unique(sfat_mask)) == 2\n",
    "        \n",
    "#         sub_path = path.split(\"\\\\\")[:-2]\n",
    "#         fn = path.split(\"\\\\\")[-1][2:]\n",
    "#         rm_path = \"\\\\\".join(sub_path)+\"\\\\Mask_total.png\"\n",
    "#         save_path = \"\\\\\".join(sub_path)+\"\\\\\"+fn\n",
    "#         print(save_path)\n",
    "#         try:\n",
    "#             os.remove(rm_path)\n",
    "#         except:\n",
    "#             pass\n",
    "#         save_mask = np.zeros_like(vfat_mask)\n",
    "#         save_mask[sfat_mask != 0] = 1\n",
    "#         save_mask[muscle_mask != 0] = 2\n",
    "#         save_mask[vfat_mask != 0] = 3\n",
    "#         cv2.imwrite(save_path, save_mask)\n"
   ]
  },
  {
   "cell_type": "code",
   "execution_count": 5,
   "id": "b591108c-2571-473b-9e5e-62a62db78d43",
   "metadata": {
    "tags": []
   },
   "outputs": [
    {
     "name": "stderr",
     "output_type": "stream",
     "text": [
      "C:\\Users\\qwe14\\anaconda3\\envs\\nnunet\\lib\\site-packages\\pydicom\\charset.py:754: UserWarning: Unknown encoding 'ISO_IR 149' - using default encoding instead\n",
      "  _warn_about_invalid_encoding(encoding)\n",
      "C:\\Users\\qwe14\\anaconda3\\envs\\nnunet\\lib\\site-packages\\pydicom\\charset.py:754: UserWarning: Unknown encoding 'ISO_IR 149' - using default encoding instead\n",
      "  _warn_about_invalid_encoding(encoding)\n"
     ]
    },
    {
     "name": "stdout",
     "output_type": "stream",
     "text": [
      "C:\\Users\\qwe14\\0.code\\sarcopenia\\data_train_raw\\#AsanNas\\SarcopeniaCase303\\20150323_ROI\\*.png\n",
      "C:\\Users\\qwe14\\0.code\\sarcopenia\\data_train_raw\\#AsanNas\\SarcopeniaCase381\\20131111_ROI\\*.png\n"
     ]
    }
   ],
   "source": [
    "# C:\\Users\\qwe14\\0.code\\sarcopenia\\data_train_raw\\#AsanNas\\SarcopeniaCase1\\20061220_DCM\\00001.dcm\n",
    "gt_dcm_home = r'C:\\Users\\qwe14\\0.code\\sarcopenia\\data_train_raw\\#AsanNas'\n",
    "\n",
    "iou_list = []\n",
    "acc_list = []\n",
    "f1_macro_list = []\n",
    "dice_score_list = []\n",
    "\n",
    "# C:\\Users\\qwe14\\0.code\\sarcopenia\\data_train_raw\\output\\result01\\L3Data\\SarcopeniaCase159_20150126_DCM\\SarcopeniaCase159_20150126_DCM_00053.png\n",
    "test_set = glob(r\"C:\\Users\\qwe14\\0.code\\sarcopenia\\data_train_raw\\output\\result01\\L3Data\\*\\*.png\")\n",
    "for idx, pred_mask_path in enumerate(test_set):\n",
    "    fn = pred_mask_path.split(\"\\\\\")[-1].split(\"_\")\n",
    "    \n",
    "    if len(fn) == 4:\n",
    "        dcm_path = f\"{gt_dcm_home}\\\\{fn[0]}\\\\{fn[1]}_{fn[2]}\\\\{fn[3]}\"\n",
    "        gt_mask_path = f\"{gt_dcm_home}\\\\{fn[0]}\\\\{fn[1]}_ROI\\\\*.png\"\n",
    "    elif len(fn) == 5:\n",
    "        dcm_path = f\"{gt_dcm_home}\\\\{fn[0]}\\\\{fn[1]}_{fn[2]}_{fn[3]}\\\\{fn[4]}\"\n",
    "        gt_mask_path = f\"{gt_dcm_home}\\\\{fn[0]}\\\\{fn[1]}_{fn[2]}_ROI\\\\*.png\"\n",
    "    dcm_path = dcm_path.replace(\"png\", \"dcm\")\n",
    "    \n",
    "    \n",
    "    img_path = \"\\\\\".join(pred_mask_path.split(\"\\\\\")[:-1]) + \"\\\\Contrast_Img\\\\c_\" + pred_mask_path.split(\"\\\\\")[-1]\n",
    "    try:\n",
    "        gt_mask_path = glob(gt_mask_path)[0]\n",
    "    except:\n",
    "        print(gt_mask_path)\n",
    "    masks = hu_mask(dcm_path, img_path, gt_mask_path, pred_mask_path)\n",
    "    gm_mask, pm_mask = masks\n",
    "    if gm_mask is not None:\n",
    "        iou_list.append(calculate_iou(pm_mask, gm_mask))\n",
    "        f1_macro, acc = calculate_binary_metrics(pm_mask, gm_mask)\n",
    "        acc_list.append(acc)\n",
    "        f1_macro_list.append(f1_macro)\n",
    "        dice_score_list.append(calculate_dice_score(pm_mask, gm_mask))"
   ]
  },
  {
   "cell_type": "code",
   "execution_count": 6,
   "id": "585acd07-860a-4136-883c-43574706bfdd",
   "metadata": {
    "tags": []
   },
   "outputs": [
    {
     "name": "stdout",
     "output_type": "stream",
     "text": [
      "IoU: [0.61771795 0.64506257 0.43062501]\n",
      "f1_macro score: [0.85451179 0.87062208 0.76543847]\n",
      "accuacy: [0.96592324 0.95314026 0.94652001]\n",
      "dice_score: [0.72792427 0.76752426 0.56024058]\n"
     ]
    }
   ],
   "source": [
    "print(f\"IoU: {np.mean(iou_list, axis = 0)}\")\n",
    "print(f\"f1_macro score: {np.mean(f1_macro_list, axis = 0)}\")\n",
    "print(f\"accuacy: {np.mean(acc_list, axis = 0)}\")\n",
    "print(f\"dice_score: {np.mean(dice_score_list, axis = 0)}\")"
   ]
  },
  {
   "cell_type": "code",
   "execution_count": 7,
   "id": "2e9956d2-9292-4ccf-b818-059d8462c9b6",
   "metadata": {
    "tags": []
   },
   "outputs": [
    {
     "name": "stdout",
     "output_type": "stream",
     "text": [
      "892 892\n"
     ]
    }
   ],
   "source": [
    "print(len(iou_list), len(f1_macro_list))"
   ]
  },
  {
   "cell_type": "markdown",
   "id": "f5dde6cd-d9a5-4fcc-8fab-89e36c4250b4",
   "metadata": {},
   "source": [
    "### L3 제대로 찾은 것만 판단"
   ]
  },
  {
   "cell_type": "code",
   "execution_count": 8,
   "id": "28c3526d-deb6-4ccb-9841-b31846b140f2",
   "metadata": {
    "tags": []
   },
   "outputs": [
    {
     "name": "stderr",
     "output_type": "stream",
     "text": [
      "C:\\Users\\qwe14\\anaconda3\\envs\\nnunet\\lib\\site-packages\\pydicom\\charset.py:754: UserWarning: Unknown encoding 'ISO_IR 149' - using default encoding instead\n",
      "  _warn_about_invalid_encoding(encoding)\n"
     ]
    },
    {
     "name": "stdout",
     "output_type": "stream",
     "text": [
      "dcm2 Error\n",
      "dcm_path='C:\\\\Users\\\\qwe14\\\\0.code\\\\sarcopenia\\\\data_train_raw\\\\#AsanNas\\\\SarcopeniaCase210\\\\20160111_DCM\\\\00138.dcm'\n",
      "dcm_path2='C:\\\\Users\\\\qwe14\\\\0.code\\\\sarcopenia\\\\data_train_raw\\\\#AsanNas\\\\SarcopeniaCase210\\\\20160111_DCM\\\\00039.dcm'\n",
      "dcm2 Error\n",
      "dcm_path='C:\\\\Users\\\\qwe14\\\\0.code\\\\sarcopenia\\\\data_train_raw\\\\#AsanNas\\\\SarcopeniaCase268\\\\20140628_DCM\\\\00081.dcm'\n",
      "dcm_path2='C:\\\\Users\\\\qwe14\\\\0.code\\\\sarcopenia\\\\data_train_raw\\\\#AsanNas\\\\SarcopeniaCase268\\\\20140628_DCM\\\\00000.dcm'\n",
      "Not found gt_mask_path: C:\\Users\\qwe14\\0.code\\sarcopenia\\data_train_raw\\#AsanNas\\SarcopeniaCase303\\20150323_ROI\\*.png\n",
      "Slice error C:\\Users\\qwe14\\0.code\\sarcopenia\\data_train_raw\\#AsanNas\\SarcopeniaCase303\\20150323_ROI\\*.png\n",
      "dcm2 Error\n",
      "dcm_path='C:\\\\Users\\\\qwe14\\\\0.code\\\\sarcopenia\\\\data_train_raw\\\\#AsanNas\\\\SarcopeniaCase359\\\\20040514_DCM\\\\00092.dcm'\n",
      "dcm_path2='C:\\\\Users\\\\qwe14\\\\0.code\\\\sarcopenia\\\\data_train_raw\\\\#AsanNas\\\\SarcopeniaCase359\\\\20040514_DCM\\\\00046.dcm'\n",
      "dcm2 Error\n",
      "dcm_path='C:\\\\Users\\\\qwe14\\\\0.code\\\\sarcopenia\\\\data_train_raw\\\\#AsanNas\\\\SarcopeniaCase364\\\\20120206_DCM\\\\00217.dcm'\n",
      "dcm_path2='C:\\\\Users\\\\qwe14\\\\0.code\\\\sarcopenia\\\\data_train_raw\\\\#AsanNas\\\\SarcopeniaCase364\\\\20120206_DCM\\\\00095.dcm'\n",
      "Not found gt_mask_path: C:\\Users\\qwe14\\0.code\\sarcopenia\\data_train_raw\\#AsanNas\\SarcopeniaCase381\\20131111_ROI\\*.png\n",
      "Slice error C:\\Users\\qwe14\\0.code\\sarcopenia\\data_train_raw\\#AsanNas\\SarcopeniaCase381\\20131111_ROI\\*.png\n",
      "dcm2 Error\n",
      "dcm_path='C:\\\\Users\\\\qwe14\\\\0.code\\\\sarcopenia\\\\data_train_raw\\\\#AsanNas\\\\SarcopeniaCase419\\\\20150527_DCM\\\\00090.dcm'\n",
      "dcm_path2='C:\\\\Users\\\\qwe14\\\\0.code\\\\sarcopenia\\\\data_train_raw\\\\#AsanNas\\\\SarcopeniaCase419\\\\20150527_DCM\\\\00045.dcm'\n",
      "dcm2 Error\n",
      "dcm_path='C:\\\\Users\\\\qwe14\\\\0.code\\\\sarcopenia\\\\data_train_raw\\\\#AsanNas\\\\SarcopeniaCase420\\\\20130204_DCM\\\\00095.dcm'\n",
      "dcm_path2='C:\\\\Users\\\\qwe14\\\\0.code\\\\sarcopenia\\\\data_train_raw\\\\#AsanNas\\\\SarcopeniaCase420\\\\20130204_DCM\\\\00050.dcm'\n",
      "dcm2 Error\n",
      "dcm_path='C:\\\\Users\\\\qwe14\\\\0.code\\\\sarcopenia\\\\data_train_raw\\\\#AsanNas\\\\SarcopeniaCase97\\\\20070816_DCM\\\\00163.dcm'\n",
      "dcm_path2='C:\\\\Users\\\\qwe14\\\\0.code\\\\sarcopenia\\\\data_train_raw\\\\#AsanNas\\\\SarcopeniaCase97\\\\20070816_DCM\\\\00076.dcm'\n"
     ]
    }
   ],
   "source": [
    "# C:\\Users\\qwe14\\0.code\\sarcopenia\\data_train_raw\\#AsanNas\\SarcopeniaCase1\\20061220_DCM\\00001.dcm\n",
    "gt_dcm_home = r'C:\\Users\\qwe14\\0.code\\sarcopenia\\data_train_raw\\#AsanNas'\n",
    "\n",
    "iou_list = []\n",
    "acc_list = []\n",
    "f1_macro_list = []\n",
    "dice_score_list = []\n",
    "\n",
    "# C:\\Users\\qwe14\\0.code\\sarcopenia\\data_train_raw\\output\\result01\\L3Data\\SarcopeniaCase159_20150126_DCM\\SarcopeniaCase159_20150126_DCM_00053.png\n",
    "test_set = glob(r\"C:\\Users\\qwe14\\0.code\\sarcopenia\\data_train_raw\\output\\result01\\L3Data\\*\\*.png\")\n",
    "gap_L3_slice = []\n",
    "gap_L3_length = []\n",
    "for idx, pred_mask_path in enumerate(test_set):\n",
    "    fn = pred_mask_path.split(\"\\\\\")[-1].split(\"_\")\n",
    "    \n",
    "    if len(fn) == 4:\n",
    "        dcm_path = f\"{gt_dcm_home}\\\\{fn[0]}\\\\{fn[1]}_{fn[2]}\\\\{fn[3]}\"\n",
    "        gt_mask_path = f\"{gt_dcm_home}\\\\{fn[0]}\\\\{fn[1]}_ROI\\\\*.png\"\n",
    "    elif len(fn) == 5:\n",
    "        dcm_path = f\"{gt_dcm_home}\\\\{fn[0]}\\\\{fn[1]}_{fn[2]}_{fn[3]}\\\\{fn[4]}\"\n",
    "        gt_mask_path = f\"{gt_dcm_home}\\\\{fn[0]}\\\\{fn[1]}_{fn[2]}_ROI\\\\*.png\"\n",
    "    dcm_path = dcm_path.replace(\"png\", \"dcm\")\n",
    "    \n",
    "    \n",
    "    img_path = \"\\\\\".join(pred_mask_path.split(\"\\\\\")[:-1]) + \"\\\\Contrast_Img\\\\c_\" + pred_mask_path.split(\"\\\\\")[-1]\n",
    "    try:\n",
    "        gt_mask_path = glob(gt_mask_path)[0]\n",
    "    except:\n",
    "        print(\"Not found gt_mask_path:\", gt_mask_path)\n",
    "    pred_dcm_slice = int(pred_mask_path.split(\"_\")[-1].split(\".\")[0])\n",
    "    try:\n",
    "        gt_dcm_slice = int(gt_mask_path.split(\"_\")[-1].split(\".\")[0])\n",
    "    except:\n",
    "        print(\"Slice error\", gt_mask_path)\n",
    "        pass\n",
    "    \n",
    "    if pred_dcm_slice != gt_dcm_slice:\n",
    "        dcm = pydicom.dcmread(dcm_path)\n",
    "        src_fn = f\"{gt_dcm_slice:05d}\"\n",
    "        dst_fn = f\"{pred_dcm_slice:05d}\"\n",
    "        dcm_path2 = dcm_path.replace(dst_fn, src_fn)\n",
    "        try:\n",
    "            dcm2 = pydicom.dcmread(dcm_path2)\n",
    "        except:\n",
    "            print(\"dcm2 Error\")\n",
    "            print(f\"{dcm_path=}\")\n",
    "            print(f\"{dcm_path2=}\")\n",
    "        gap = int(dcm[\"SeriesNumber\"].value-dcm2[\"SeriesNumber\"].value)\n",
    "        gap_L3_slice.append(gap)\n",
    "        gap_L3_length.append(float(dcm[\"SliceThickness\"].value) * gap)\n",
    "    else:\n",
    "        gap_L3_slice.append(0)\n",
    "        gap_L3_length.append(0)\n",
    "        \n",
    "        masks = hu_mask(dcm_path, img_path, gt_mask_path, pred_mask_path)\n",
    "        gm_mask, pm_mask = masks\n",
    "        if gm_mask is not None:\n",
    "            iou_list.append(calculate_iou(pm_mask, gm_mask))\n",
    "            f1_macro, acc = calculate_binary_metrics(pm_mask, gm_mask)\n",
    "            acc_list.append(acc)\n",
    "            f1_macro_list.append(f1_macro)\n",
    "            dice_score_list.append(calculate_dice_score(pm_mask, gm_mask))\n",
    "\n",
    "        "
   ]
  },
  {
   "cell_type": "code",
   "execution_count": 9,
   "id": "d606cccc-788f-4929-8a41-d3375410ebee",
   "metadata": {
    "tags": []
   },
   "outputs": [
    {
     "name": "stdout",
     "output_type": "stream",
     "text": [
      "IoU: [0.81089348 0.80778175 0.72921745]\n",
      "f1_macro score: [0.93876883 0.93847483 0.90520233]\n",
      "accuacy: [0.98864357 0.97809775 0.97960005]\n",
      "dice_score: [0.88377702 0.88918982 0.82154253]\n"
     ]
    }
   ],
   "source": [
    "print(f\"IoU: {np.mean(iou_list, axis = 0)}\")\n",
    "print(f\"f1_macro score: {np.mean(f1_macro_list, axis = 0)}\")\n",
    "print(f\"accuacy: {np.mean(acc_list, axis = 0)}\")\n",
    "print(f\"dice_score: {np.mean(dice_score_list, axis = 0)}\")"
   ]
  },
  {
   "cell_type": "code",
   "execution_count": 10,
   "id": "e80f8e6c-35b7-4364-92b8-d8bc2d6e77dd",
   "metadata": {
    "tags": []
   },
   "outputs": [
    {
     "name": "stdout",
     "output_type": "stream",
     "text": [
      "149 149 149 149\n"
     ]
    }
   ],
   "source": [
    "print(len(iou_list), len(f1_macro_list), len(acc_list), len(dice_score_list))"
   ]
  },
  {
   "cell_type": "code",
   "execution_count": 11,
   "id": "4d1bbd67-e647-46d8-b599-df4336cbc81f",
   "metadata": {
    "tags": []
   },
   "outputs": [
    {
     "name": "stdout",
     "output_type": "stream",
     "text": [
      "894 894\n"
     ]
    }
   ],
   "source": [
    "print(len(gap_L3_slice), len(gap_L3_length))"
   ]
  },
  {
   "cell_type": "code",
   "execution_count": 76,
   "id": "da5b2cce-f3d2-466a-8195-a1ed33f85332",
   "metadata": {
    "tags": []
   },
   "outputs": [
    {
     "data": {
      "image/png": "[encoded data removed]",
      "text/plain": [
       "<Figure size 640x480 with 1 Axes>"
      ]
     },
     "metadata": {},
     "output_type": "display_data"
    }
   ],
   "source": [
    "import matplotlib.pyplot as plt\n",
    "\n",
    "plt.hist(gap_L3_slice, bins=(np.max(gap_L3_slice) - np.min(gap_L3_slice)), label=f'bins={np.max(gap_L3_slice) - np.min(gap_L3_slice)}')\n",
    "plt.legend()\n",
    "plt.show()"
   ]
  },
  {
   "cell_type": "code",
   "execution_count": 77,
   "id": "c49805d9-2abc-4ec0-9bb8-08e0b1976c1a",
   "metadata": {
    "tags": []
   },
   "outputs": [
    {
     "data": {
      "image/png": "[encoded data removed]",
      "text/plain": [
       "<Figure size 640x480 with 1 Axes>"
      ]
     },
     "metadata": {},
     "output_type": "display_data"
    }
   ],
   "source": [
    "import matplotlib.pyplot as plt\n",
    "\n",
    "abs_gap_L3_slice = np.abs(gap_L3_slice)\n",
    "plt.hist(abs_gap_L3_slice, bins=(np.max(abs_gap_L3_slice) - np.min(abs_gap_L3_slice)), label=f'bins={np.max(abs_gap_L3_slice) - np.min(abs_gap_L3_slice)}')\n",
    "plt.legend()\n",
    "plt.show()"
   ]
  },
  {
   "cell_type": "code",
   "execution_count": 78,
   "id": "61571651-c71d-4088-a87d-9a7115b9d488",
   "metadata": {
    "tags": []
   },
   "outputs": [
    {
     "name": "stdout",
     "output_type": "stream",
     "text": [
      "[   0.    12.    20.    92.5  110.   150.   405.  2575. ]\n"
     ]
    },
    {
     "data": {
      "image/png": "[encoded data removed]",
      "text/plain": [
       "<Figure size 640x480 with 1 Axes>"
      ]
     },
     "metadata": {},
     "output_type": "display_data"
    }
   ],
   "source": [
    "import matplotlib.pyplot as plt\n",
    "\n",
    "print(np.unique(gap_L3_length))\n",
    "plt.hist(gap_L3_length, bins=int(np.max(gap_L3_length) - np.min(gap_L3_length)), label=f'bins={np.max(gap_L3_length) - np.min(gap_L3_length)}')\n",
    "plt.legend()\n",
    "plt.show()"
   ]
  },
  {
   "cell_type": "code",
   "execution_count": 79,
   "id": "0f92a513-7d91-4d7f-b198-72d246e868d3",
   "metadata": {
    "tags": []
   },
   "outputs": [
    {
     "data": {
      "image/png": "[encoded data removed]",
      "text/plain": [
       "<Figure size 640x480 with 1 Axes>"
      ]
     },
     "metadata": {},
     "output_type": "display_data"
    }
   ],
   "source": [
    "import matplotlib.pyplot as plt\n",
    "\n",
    "plt.hist(gap_L3_length, bins=100, label=f'bins=100')\n",
    "plt.legend()\n",
    "plt.show()"
   ]
  },
  {
   "cell_type": "code",
   "execution_count": 80,
   "id": "aeafcb12-f555-41b3-b27a-73877434021f",
   "metadata": {
    "tags": []
   },
   "outputs": [
    {
     "data": {
      "image/png": "[encoded data removed]",
      "text/plain": [
       "<Figure size 640x480 with 1 Axes>"
      ]
     },
     "metadata": {},
     "output_type": "display_data"
    }
   ],
   "source": [
    "import matplotlib.pyplot as plt\n",
    "\n",
    "gap_abs_L3_length = np.abs(gap_L3_length)\n",
    "plt.hist(gap_abs_L3_length, bins=int(np.max(gap_abs_L3_length) - np.min(gap_abs_L3_length)), label=f'bins={np.max(gap_abs_L3_length) - np.min(gap_abs_L3_length)}')\n",
    "plt.legend()\n",
    "plt.show()"
   ]
  },
  {
   "cell_type": "code",
   "execution_count": null,
   "id": "725fbd9f-35c2-4567-8e19-d193c5d83d67",
   "metadata": {},
   "outputs": [],
   "source": []
  },
  {
   "cell_type": "markdown",
   "id": "870bf159-f1cc-4a51-899e-baa3b6b1c23c",
   "metadata": {},
   "source": [
    "---\n",
    "#### 데이터(이미지 or 마스크) 확인"
   ]
  },
  {
   "cell_type": "code",
   "execution_count": 10,
   "id": "a3abf50f-7473-4929-be13-e41f35cd3ffd",
   "metadata": {
    "tags": []
   },
   "outputs": [],
   "source": [
    "# mask_sample = r'C:\\Users\\qwe14\\0.code\\sarcopenia\\data_train_raw\\#AsanNas\\SarcopeniaCase1\\20061220_ROI\\Mask_40.png'\n",
    "# gt_mask = cv2.imread(mask_sample, cv2.IMREAD_GRAYSCALE)\n",
    "# plt.imshow(gt_mask, cmap = cm.gray)\n",
    "# plt.axis(\"off\")\n",
    "# plt.show()"
   ]
  },
  {
   "cell_type": "code",
   "execution_count": 9,
   "id": "7ca20bdc-29f4-415f-a3e5-e55ed66dd944",
   "metadata": {
    "tags": []
   },
   "outputs": [],
   "source": [
    "# mask_sample = r\"C:\\Users\\qwe14\\0.code\\sarcopenia\\data_train_raw\\output\\result01\\L3Data\\SarcopeniaCase100_20071025_DCM\\SarcopeniaCase100_20071025_DCM_00036.png\"\n",
    "# gt_mask = cv2.imread(mask_sample, cv2.IMREAD_GRAYSCALE)\n",
    "# plt.imshow(gt_mask, cmap = cm.gray)\n",
    "# plt.axis(\"off\")\n",
    "# plt.show()"
   ]
  },
  {
   "cell_type": "code",
   "execution_count": null,
   "id": "b106e8a5-2996-4fa8-b0d2-fdcafc462a33",
   "metadata": {},
   "outputs": [],
   "source": []
  }
 ],
 "metadata": {
  "kernelspec": {
   "display_name": "Python 3 (ipykernel)",
   "language": "python",
   "name": "python3"
  },
  "language_info": {
   "codemirror_mode": {
    "name": "ipython",
    "version": 3
   },
   "file_extension": ".py",
   "mimetype": "text/x-python",
   "name": "python",
   "nbconvert_exporter": "python",
   "pygments_lexer": "ipython3",
   "version": "3.11.5"
  }
 },
 "nbformat": 4,
 "nbformat_minor": 5
}
