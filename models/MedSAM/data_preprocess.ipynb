{
 "cells": [
  {
   "cell_type": "markdown",
   "id": "90966a8c-3772-4280-875d-3c87e3b4d322",
   "metadata": {},
   "source": [
    "## data preprocess\n",
    "- nnUNet 데이터 불러와 1024로 리사이즈 후 npy로 변형"
   ]
  },
  {
   "cell_type": "code",
   "execution_count": 45,
   "id": "be5554fc-a047-4e15-866b-fceb1a840cde",
   "metadata": {},
   "outputs": [],
   "source": [
    "from glob import glob\n",
    "import os\n",
    "import cv2\n",
    "save_home = r\"C:\\Users\\qwe14\\0.code\\MedSAM\\data\\npy\\MR_L3\\imgs\"\n",
    "img_home1 = r\"C:\\Users\\qwe14\\0.code\\nnUNet\\nnUNet_raw\\Dataset121_MR\\imagesTr\\*.png\"\n",
    "img_home2 = r\"C:\\Users\\qwe14\\0.code\\nnUNet\\nnUNet_raw\\Dataset121_MR\\imagesTs\\*.png\"\n",
    "\n",
    "\n",
    "img_list1 = glob(img_home1)\n",
    "img_list2 = glob(img_home2)\n",
    "img_list = img_list1 + img_list2\n",
    "\n",
    "for img_path in img_list:\n",
    "    save_file = img_path.replace(\"_0000.png\", \".npy\")\n",
    "    save_file = \"MR_L3_\"+save_file.split(\"\\\\\")[-1]\n",
    "    save_path = os.path.join(save_home, save_file)\n",
    "    img = cv2.imread(img_path, cv2.IMREAD_GRAYSCALE)\n",
    "    img = cv2.resize(img, (1024, 1024), interpolation=cv2.INTER_LINEAR)\n",
    "    x = cv2.cvtColor(img, cv2.COLOR_GRAY2BGR)\n",
    "    color_img_cv2 = (x-np.min(x))/(np.max(x)-np.min(x))\n",
    "    np.save(save_path, color_img_cv2)\n"
   ]
  },
  {
   "cell_type": "code",
   "execution_count": 47,
   "id": "79a9ac29-f0bd-4efb-b4c6-d385fbe6ec9a",
   "metadata": {
    "scrolled": true
   },
   "outputs": [],
   "source": [
    "save_home = r\"C:\\Users\\qwe14\\0.code\\MedSAM\\data\\npy\\MR_L3\\gts\"\n",
    "seg_home1 = r\"C:\\Users\\qwe14\\0.code\\nnUNet\\nnUNet_raw\\Dataset121_MR\\labelsTr\\*.png\"\n",
    "seg_home2 = r\"C:\\Users\\qwe14\\0.code\\nnUNet\\nnUNet_raw\\Dataset121_MR\\labelsTs\\*.png\"\n",
    "\n",
    "seg_list1 = glob(seg_home1)\n",
    "seg_list2 = glob(seg_home2)\n",
    "seg_list = seg_list1 + seg_list2\n",
    "\n",
    "for seg_path in seg_list:\n",
    "    save_file = seg_path.replace(\"png\", \"npy\")\n",
    "    save_file = \"MR_L3_\"+save_file.split(\"\\\\\")[-1]\n",
    "    save_path = os.path.join(save_home, save_file)\n",
    "    seg = cv2.imread(seg_path, cv2.IMREAD_GRAYSCALE)\n",
    "    seg = cv2.resize(seg, (1024, 1024), interpolation=cv2.INTER_NEAREST)\n",
    "    np.save(save_path, seg)"
   ]
  },
  {
   "cell_type": "code",
   "execution_count": null,
   "id": "617c2089-2eed-4533-b2a7-e1a233ff872d",
   "metadata": {},
   "outputs": [],
   "source": []
  }
 ],
 "metadata": {
  "kernelspec": {
   "display_name": "Python 3 (ipykernel)",
   "language": "python",
   "name": "python3"
  },
  "language_info": {
   "codemirror_mode": {
    "name": "ipython",
    "version": 3
   },
   "file_extension": ".py",
   "mimetype": "text/x-python",
   "name": "python",
   "nbconvert_exporter": "python",
   "pygments_lexer": "ipython3",
   "version": "3.10.13"
  }
 },
 "nbformat": 4,
 "nbformat_minor": 5
}
