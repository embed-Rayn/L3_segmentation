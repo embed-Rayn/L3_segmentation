{
 "cells": [
  {
   "cell_type": "markdown",
   "id": "ee997539-9de3-4d73-bc1b-eac0aa4c332c",
   "metadata": {},
   "source": [
    "#  sarcopenia preprocess"
   ]
  },
  {
   "cell_type": "markdown",
   "id": "a677b87f-3252-4802-b2e4-6f3ffaa2f1bc",
   "metadata": {},
   "source": [
    "### 준비 사항\n",
    "- dcm 파일 혹은 img\n",
    "- dcm인 경우 몇 번째 dcm이 l3인지 알려주는 정보\n",
    "- mask 파일\n",
    "- "
   ]
  },
  {
   "attachments": {},
   "cell_type": "markdown",
   "id": "60f4f712-f890-4284-ac97-b3267d09bc4a",
   "metadata": {},
   "source": [
    "## 포맷\n",
    "\n",
    "- [segmentation_models_pytorch](https://segmentation-modelspytorch.readthedocs.io/en/latest/) 라이브러리를 채택\n",
    "- 위 라이브러리의 인풋과 아웃풋을 따름"
   ]
  },
  {
   "cell_type": "markdown",
   "id": "409111ab-8a2f-45a8-bdd6-32e07511365c",
   "metadata": {},
   "source": [
    "```md\n",
    "code_home\n",
    "├── annotations\n",
    "│   ├── trimaps\n",
    "│   └── xmls\n",
    "└── images\n",
    "\n",
    "```"
   ]
  },
  {
   "cell_type": "markdown",
   "id": "9f20636c-3483-48dd-ba99-7eb2af8f6e3f",
   "metadata": {},
   "source": [
    "- annotations/trimaps: PNG files, 0(배경) or 1(obj)로 전처리하여 사용\n",
    "- annotations/xmls: 이미지 메타 정보\n",
    "- images: JPG images\n"
   ]
  },
  {
   "cell_type": "markdown",
   "id": "d2101cf2-4100-45e1-9a92-d82c1073b3f6",
   "metadata": {},
   "source": [
    "## Training set 처리"
   ]
  },
  {
   "cell_type": "markdown",
   "id": "74744b42-e15e-4c05-9817-553ea33e3baf",
   "metadata": {},
   "source": [
    "```md\n",
    "train_data_home\n",
    "├── SarcopeniaCase1\n",
    "│   ├── 20061220_DCM\n",
    "│   ├── 20061220_ROI\n",
    "│   ├── 20061220_RAW.txt\n",
    "│   ├── [날짜]_DCM\n",
    "│   ├── [날짜]_ROI\n",
    "│   └── [날짜]_RAW.txt\n",
    "├── SarcopeniaCase2\n",
    "├── SarcopeniaCase3\n",
    "└── SarcopeniaCase4\n",
    "```"
   ]
  },
  {
   "cell_type": "code",
   "execution_count": 7,
   "id": "8937f410-7798-4497-9dc4-963365f5b1b0",
   "metadata": {},
   "outputs": [],
   "source": [
    "import os\n",
    "from glob import glob\n",
    "from PIL import Image\n",
    "import pydicom\n",
    "import numpy as np"
   ]
  },
  {
   "cell_type": "markdown",
   "id": "65c68dad-6018-40fa-a53f-f6364c153973",
   "metadata": {},
   "source": [
    "### image 처리"
   ]
  },
  {
   "cell_type": "markdown",
   "id": "d97338e2-d5ef-4baf-a95d-3e6a5df296dc",
   "metadata": {},
   "source": [
    "#### img 처리 함수들"
   ]
  },
  {
   "cell_type": "code",
   "execution_count": 8,
   "id": "86867ee2-65fe-4b66-9b0e-8ab30f739929",
   "metadata": {},
   "outputs": [],
   "source": [
    "def norm_img(img):\n",
    "    norm_image = np.array(img, dtype=np.float64)\n",
    "    norm_image -= np.min(norm_image)\n",
    "    norm_image /= np.max(norm_image)\n",
    "    normalized_image = norm_image * 255\n",
    "    normalized_image = normalized_image.astype(np.uint8)\n",
    "    return normalized_image\n",
    "    \n",
    "def dcm_windowing(ds, center=40, width=400):\n",
    "    dcm_array = ds.pixel_array\n",
    "    hu_image = dcm_array * ds.RescaleSlope + ds.RescaleIntercept\n",
    "    # try:\n",
    "    #     hu_image = dcm_array * dcm.RescaleSlope + dcm.RescaleIntercept\n",
    "    # except AttributeError:\n",
    "    #     hu_image = dcm_array\n",
    "    # hu_image[hu_image < -1024] = -1024\n",
    "\n",
    "    # img_min = dcm.WindowCenter - dcm.WindowWidth // 2\n",
    "    # img_max = dcm.WindowCenter + dcm.WindowWidth // 2\n",
    "    img_min = center - width // 2\n",
    "    img_max = center + width // 2\n",
    "    \n",
    "    window_image = hu_image.copy()\n",
    "    window_image[window_image < img_min] = img_min\n",
    "    window_image[window_image > img_max] = img_max\n",
    "\n",
    "    normalized_img = norm_img(window_image)\n",
    "    p_image = Image.fromarray(normalized_img)\n",
    "    p_image = p_image.resize((512, 512))\n",
    "    \n",
    "    return p_image\n",
    "\n",
    "\n",
    "def get_slice_no(raw_path):\n",
    "    l3_dcm_id = None\n",
    "    with open(raw_path, 'r', encoding=\"utf-8\") as f:\n",
    "        lines = f.readlines()\n",
    "    for i, line in enumerate(lines):\n",
    "        if line.strip() == \"#SliceNo\":\n",
    "            l3_dcm_id = int(lines[i+1])\n",
    "            return l3_dcm_id\n",
    "    return l3_dcm_id"
   ]
  },
  {
   "cell_type": "markdown",
   "id": "b1f55ff8-2163-464c-a2c5-c6719839545e",
   "metadata": {},
   "source": [
    "#### 원본 이미지 저장(train_data)"
   ]
  },
  {
   "cell_type": "code",
   "execution_count": null,
   "id": "db04c1ff-b4e4-442e-924b-c249150a350f",
   "metadata": {},
   "outputs": [],
   "source": [
    "train_data_home = \"C:\\\\Users\\\\qwe14\\\\0.code\\\\sarcopenia\\\\data_train_raw\\\\#AsanNas\\\\\"\n",
    "train_img_save_path = \"C:\\\\Users\\\\qwe14\\\\0.code\\\\sarcopenia\\\\data_train\\\\images\\\\\""
   ]
  },
  {
   "cell_type": "code",
   "execution_count": 9,
   "id": "ff6fdf0e-4e65-4b94-8970-68e045d003bc",
   "metadata": {},
   "outputs": [
    {
     "name": "stderr",
     "output_type": "stream",
     "text": [
      "C:\\Users\\qwe14\\anaconda3\\envs\\timm_model\\Lib\\site-packages\\pydicom\\charset.py:754: UserWarning: Unknown encoding 'ISO_IR 149' - using default encoding instead\n",
      "  _warn_about_invalid_encoding(encoding)\n"
     ]
    }
   ],
   "source": [
    "train_data_dirs = os.listdir(train_data_home)\n",
    "data_numbering = 0\n",
    "relation_table = \"\"\n",
    "error_table = \"\"\n",
    "for train_dir in train_data_dirs:\n",
    "    dir_path = os.path.join(train_data_home, train_dir)\n",
    "    data_ids = glob(f\"{dir_path}\\\\*\")\n",
    "    data_ids = list(set([date.split(\"\\\\\")[-1].split(\".\")[0][:-4] for date in data_ids]))\n",
    "    for data_id in data_ids:\n",
    "        data_numbering += 1\n",
    "        raw_path = os.path.join(dir_path, f\"{data_id}_RAW.txt\")\n",
    "        try:\n",
    "            dcm_no = get_slice_no(raw_path)\n",
    "        except FileNotFoundError as e:\n",
    "            error_table += f\"FileNotFound(RAW.txt): {raw_path}\\n\"\n",
    "        \n",
    "        # image code\n",
    "        dcm_path = os.path.join(dir_path, f\"{data_id}_DCM{os.sep}{dcm_no:05d}.dcm\")\n",
    "        try:\n",
    "            ds = pydicom.dcmread(dcm_path)\n",
    "        except pydicom.errors.InvalidDicomError as e:\n",
    "            error_table += f\"InvalidDicom: {dcm_path}\\n\"\n",
    "        except FileNotFoundError as e:\n",
    "            error_table += f\"FileNotFoundError(dcm): {dcm_path}\\n\"\n",
    "\n",
    "        jpg_path = os.path.join(train_img_save_path, f\"{data_numbering:05d}_{data_id}.jpg\")\n",
    "\n",
    "        generate_jpg = jpg_path.split(\"\\\\\")[-1]\n",
    "        dcm_path = \"/\".join(dcm_path.split(\"\\\\\")[-3:-1])\n",
    "        relation_table += f\"{dcm_path}\\t{generate_jpg}\\n\"\n",
    "        img_array = dcm_windowing(ds)\n",
    "        img_array.save(jpg_path)\n",
    "    with open(\"data_relation.txt\", \"w\", encoding='utf-8') as f:\n",
    "        f.write(relation_table)\n",
    "    with open(\"data_error.txt\", \"w\", encoding='utf-8') as f:\n",
    "        f.write(error_table)\n"
   ]
  },
  {
   "cell_type": "markdown",
   "id": "0d44fd20-d34e-4b22-9c79-9d22b24f84d6",
   "metadata": {},
   "source": [
    "### annotation 처리"
   ]
  },
  {
   "cell_type": "code",
   "execution_count": 10,
   "id": "2209460d-1519-4be2-9fe3-3b5a34710e45",
   "metadata": {},
   "outputs": [],
   "source": [
    "import numpy as np\n",
    "import copy\n",
    "from PIL import Image"
   ]
  },
  {
   "cell_type": "code",
   "execution_count": 11,
   "id": "e6338235-274f-4574-a2ac-866c28b80e5c",
   "metadata": {},
   "outputs": [],
   "source": [
    "data_home = \"C:\\\\Users\\\\qwe14\\\\0.code\\\\sarcopenia\\\\data_train_raw\\\\#AsanNas\\\\\"\n",
    "annot_home = \"C:\\\\Users\\\\qwe14\\\\0.code\\\\sarcopenia\\\\data_train\\\\annotations\\\\\""
   ]
  },
  {
   "cell_type": "code",
   "execution_count": 16,
   "id": "b11dd2e4-47a1-488d-98da-b96ee4673403",
   "metadata": {
    "scrolled": true
   },
   "outputs": [
    {
     "name": "stderr",
     "output_type": "stream",
     "text": [
      "C:\\Users\\qwe14\\AppData\\Local\\Temp\\ipykernel_18476\\3706707319.py:32: DeprecationWarning: NumPy will stop allowing conversion of out-of-bound Python integers to integer arrays.  The conversion of 255 to int8 will fail in the future.\n",
      "For the old behavior, usually:\n",
      "    np.array(value).astype(dtype)\n",
      "will give the desired result (the cast overflows).\n",
      "  mask_img[mask_img == i+1] = np.array(255, dtype=np.int8)\n"
     ]
    }
   ],
   "source": [
    "with open(\"data_relation.txt\", \"r\", encoding='utf-8') as f:\n",
    "    lines = f.readlines()\n",
    "\n",
    "err_msg = \"\"\n",
    "train_annot_data = \"\"\n",
    "for line in lines:\n",
    "    # SarcopeniaCase138/20150717_DCM\t00081_20150717.jpg\n",
    "    dcm_dir_path, jpg_path = line.strip().split(\"\\t\")\n",
    "    dcm_roi_path = dcm_dir_path.replace(\"DCM\", \"ROI\") # SarcopeniaCase138/20150717_DOI\n",
    "    try:\n",
    "        roi_img_path = glob(os.path.join(data_home, dcm_roi_path, \"Mask*.png\"))[0]\n",
    "        hu_val = np.array(Image.open(roi_img_path))\n",
    "        \n",
    "        hu_val = hu_val.astype(np.int8)\n",
    "        unique = np.unique(hu_val)\n",
    "        if len(unique) != 4:\n",
    "            err_msg += f\"Not enough annot:\\t{dcm_dir_path}\\t{jpg_path}\\t{unique}\\n\"\n",
    "        else:\n",
    "            class_d = [\"S\", \"M\", \"V\"]# 1 == Subcutaneous Fat, 2 == Muscle, 3 == Visceral Fat\n",
    "            for i, class_init in enumerate(class_d):\n",
    "                mask_img = np.zeros_like(hu_val)\n",
    "                mask_img[hu_val == i + 1] = hu_val[hu_val == i + 1]\n",
    "                mask_img[mask_img == i+1] = np.array(255, dtype=np.int8)\n",
    "                # mask_img = (mask_img - mask_img.min()) / (mask_img.max() - mask_img.min())\n",
    "                p_image = Image.fromarray(mask_img)\n",
    "                p_image = p_image.resize((512, 512))\n",
    "                new_annot_img = f\"{annot_home}{class_init}{jpg_path}\"\n",
    "                p_image = p_image.convert('RGB')\n",
    "                p_image.save(new_annot_img)\n",
    "                train_annot_data += f\"{class_init}{jpg_path} {i+1} {i+1} {1}\\n\"\n",
    "    except IndexError:\n",
    "        err = os.path.join(data_home, dcm_roi_path, \"Mask*.jpg\")\n",
    "        err_msg += f\"Index:\\t{err}\\n\"\n",
    "    \n",
    "with open(\"annot_error.txt\", \"w\", encoding='utf-8') as f:\n",
    "    f.write(err_msg)\n",
    "with open(\"annot_train.txt\", \"w\", encoding='utf-8') as f:\n",
    "    f.write(train_annot_data)"
   ]
  }
 ],
 "metadata": {
  "kernelspec": {
   "display_name": "Python 3 (ipykernel)",
   "language": "python",
   "name": "python3"
  },
  "language_info": {
   "codemirror_mode": {
    "name": "ipython",
    "version": 3
   },
   "file_extension": ".py",
   "mimetype": "text/x-python",
   "name": "python",
   "nbconvert_exporter": "python",
   "pygments_lexer": "ipython3",
   "version": "3.11.5"
  }
 },
 "nbformat": 4,
 "nbformat_minor": 5
}
